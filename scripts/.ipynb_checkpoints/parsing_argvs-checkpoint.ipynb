{
 "cells": [
  {
   "cell_type": "code",
   "execution_count": 36,
   "metadata": {},
   "outputs": [],
   "source": [
    "#!/usr/bin/python3\n",
    "# for commandline options:\n",
    "from optparse import OptionParser, OptionGroup\n",
    "import argparse\n",
    "from numpy import mean\n",
    "import sys\n",
    "# urllib2\n",
    "import os # This library contains functions which enables to check if a directory exists\n",
    "\n",
    "def parse_commandline():\n",
    "    usage = \"%prog <fasta> [options]\"\n",
    "    version = \"0.0a\"\n",
    "    description = \\\n",
    "        \"%prog map .\"\n",
    "    epilog = \\\n",
    "        \"Copyright (c) 2019 Victoria Ruiz -- \"\\\n",
    "        \"vruizser@bsc.es -- https://www.bsc.es/ruiz-serra-victoria-isabel\"\n",
    "\n",
    "\n",
    "    #parser = OptionParser(usage=usage, description=description,\n",
    "    #                    version=\"%prog \"+version, epilog=epilog)\n",
    "    parser = argparse.ArgumentParser()\n",
    "    annovar_group = parser.add_mutually_exclusive_group()\n",
    "    annovar_group.add_argument(\"\", \"--vcf\",  dest=\"annovar\", metavar=\"<file>\", help=\"input variant annotations (vcf)\", const=\"vcf\")\n",
    "   # annovar_group.add_argument(\"\", \"--vep\",  dest=\"annovar\", metavar=\"<file>\",\n",
    "   #                 help=\"input variant file to annotate them with VEP\", const=\"vep\")\n",
    "   # annovar_group.add_argument(\"-vm\", \"--varmap\",  dest=\"annovar\", action = \"store_true\",\n",
    "   #                 help=\"use VarMap db of annotated variants\", const=\"varmap\")\n",
    "   # parser.set_defaults(annovar='varmap')\n",
    "\n",
    "        # get the options:\n",
    "    args = parser.parse_args() \n",
    "    # clean up (recommended):\n",
    "    del(parser)\n",
    "    return args\n"
   ]
  },
  {
   "cell_type": "code",
   "execution_count": 39,
   "metadata": {},
   "outputs": [
    {
     "name": "stderr",
     "output_type": "stream",
     "text": [
      "usage: ipykernel_launcher.py [-h] [--sum] N [N ...]\n",
      "ipykernel_launcher.py: error: argument N: invalid int value: '/run/user/1000/jupyter/kernel-8e6df9ce-c84b-49c4-be6c-b845c8473f30.json'\n"
     ]
    },
    {
     "ename": "SystemExit",
     "evalue": "2",
     "output_type": "error",
     "traceback": [
      "An exception has occurred, use %tb to see the full traceback.\n",
      "\u001b[0;31mSystemExit\u001b[0m\u001b[0;31m:\u001b[0m 2\n"
     ]
    }
   ],
   "source": [
    "import argparse\n",
    "\n",
    "parser = argparse.ArgumentParser(description='Process some integers.')\n",
    "parser.add_argument('integers', metavar='N', type=int, nargs='+',\n",
    "                    help='an integer for the accumulator')\n",
    "parser.add_argument('--sum', dest='accumulate', action='store_const',\n",
    "                    const=sum, default=max,\n",
    "                    help='sum the integers (default: find the max)')\n",
    "\n",
    "args = parser.parse_args()\n",
    "print (args.accumulate(args.integers))\n",
    "\n",
    " python prog.py -h"
   ]
  },
  {
   "cell_type": "code",
   "execution_count": null,
   "metadata": {},
   "outputs": [],
   "source": []
  },
  {
   "cell_type": "code",
   "execution_count": 37,
   "metadata": {},
   "outputs": [
    {
     "ename": "IndexError",
     "evalue": "string index out of range",
     "output_type": "error",
     "traceback": [
      "\u001b[0;31m---------------------------------------------------------------------------\u001b[0m",
      "\u001b[0;31mIndexError\u001b[0m                                Traceback (most recent call last)",
      "\u001b[0;32m<ipython-input-37-23803405ad19>\u001b[0m in \u001b[0;36masync-def-wrapper\u001b[0;34m()\u001b[0m\n",
      "\u001b[0;32m<ipython-input-36-497cb4289089>\u001b[0m in \u001b[0;36mparse_commandline\u001b[0;34m()\u001b[0m\n\u001b[1;32m     22\u001b[0m     \u001b[0mparser\u001b[0m \u001b[0;34m=\u001b[0m \u001b[0margparse\u001b[0m\u001b[0;34m.\u001b[0m\u001b[0mArgumentParser\u001b[0m\u001b[0;34m(\u001b[0m\u001b[0;34m)\u001b[0m\u001b[0;34m\u001b[0m\u001b[0;34m\u001b[0m\u001b[0m\n\u001b[1;32m     23\u001b[0m     \u001b[0mannovar_group\u001b[0m \u001b[0;34m=\u001b[0m \u001b[0mparser\u001b[0m\u001b[0;34m.\u001b[0m\u001b[0madd_mutually_exclusive_group\u001b[0m\u001b[0;34m(\u001b[0m\u001b[0;34m)\u001b[0m\u001b[0;34m\u001b[0m\u001b[0;34m\u001b[0m\u001b[0m\n\u001b[0;32m---> 24\u001b[0;31m     \u001b[0mannovar_group\u001b[0m\u001b[0;34m.\u001b[0m\u001b[0madd_argument\u001b[0m\u001b[0;34m(\u001b[0m\u001b[0;34m\"\"\u001b[0m\u001b[0;34m,\u001b[0m \u001b[0;34m\"--vcf\"\u001b[0m\u001b[0;34m,\u001b[0m  \u001b[0mdest\u001b[0m\u001b[0;34m=\u001b[0m\u001b[0;34m\"annovar\"\u001b[0m\u001b[0;34m,\u001b[0m \u001b[0mmetavar\u001b[0m\u001b[0;34m=\u001b[0m\u001b[0;34m\"<file>\"\u001b[0m\u001b[0;34m,\u001b[0m \u001b[0mhelp\u001b[0m\u001b[0;34m=\u001b[0m\u001b[0;34m\"input variant annotations (vcf)\"\u001b[0m\u001b[0;34m,\u001b[0m \u001b[0mconst\u001b[0m\u001b[0;34m=\u001b[0m\u001b[0;34m\"vcf\"\u001b[0m\u001b[0;34m)\u001b[0m\u001b[0;34m\u001b[0m\u001b[0;34m\u001b[0m\u001b[0m\n\u001b[0m\u001b[1;32m     25\u001b[0m    \u001b[0;31m# annovar_group.add_argument(\"\", \"--vep\",  dest=\"annovar\", metavar=\"<file>\",\u001b[0m\u001b[0;34m\u001b[0m\u001b[0;34m\u001b[0m\u001b[0;34m\u001b[0m\u001b[0m\n\u001b[1;32m     26\u001b[0m    \u001b[0;31m#                 help=\"input variant file to annotate them with VEP\", const=\"vep\")\u001b[0m\u001b[0;34m\u001b[0m\u001b[0;34m\u001b[0m\u001b[0;34m\u001b[0m\u001b[0m\n",
      "\u001b[0;32m/usr/lib/python3.6/argparse.py\u001b[0m in \u001b[0;36madd_argument\u001b[0;34m(self, *args, **kwargs)\u001b[0m\n\u001b[1;32m   1331\u001b[0m         \u001b[0;31m# otherwise, we're adding an optional argument\u001b[0m\u001b[0;34m\u001b[0m\u001b[0;34m\u001b[0m\u001b[0;34m\u001b[0m\u001b[0m\n\u001b[1;32m   1332\u001b[0m         \u001b[0;32melse\u001b[0m\u001b[0;34m:\u001b[0m\u001b[0;34m\u001b[0m\u001b[0;34m\u001b[0m\u001b[0m\n\u001b[0;32m-> 1333\u001b[0;31m             \u001b[0mkwargs\u001b[0m \u001b[0;34m=\u001b[0m \u001b[0mself\u001b[0m\u001b[0;34m.\u001b[0m\u001b[0m_get_optional_kwargs\u001b[0m\u001b[0;34m(\u001b[0m\u001b[0;34m*\u001b[0m\u001b[0margs\u001b[0m\u001b[0;34m,\u001b[0m \u001b[0;34m**\u001b[0m\u001b[0mkwargs\u001b[0m\u001b[0;34m)\u001b[0m\u001b[0;34m\u001b[0m\u001b[0;34m\u001b[0m\u001b[0m\n\u001b[0m\u001b[1;32m   1334\u001b[0m \u001b[0;34m\u001b[0m\u001b[0m\n\u001b[1;32m   1335\u001b[0m         \u001b[0;31m# if no default was supplied, use the parser-level default\u001b[0m\u001b[0;34m\u001b[0m\u001b[0;34m\u001b[0m\u001b[0;34m\u001b[0m\u001b[0m\n",
      "\u001b[0;32m/usr/lib/python3.6/argparse.py\u001b[0m in \u001b[0;36m_get_optional_kwargs\u001b[0;34m(self, *args, **kwargs)\u001b[0m\n\u001b[1;32m   1457\u001b[0m         \u001b[0;32mfor\u001b[0m \u001b[0moption_string\u001b[0m \u001b[0;32min\u001b[0m \u001b[0margs\u001b[0m\u001b[0;34m:\u001b[0m\u001b[0;34m\u001b[0m\u001b[0;34m\u001b[0m\u001b[0m\n\u001b[1;32m   1458\u001b[0m             \u001b[0;31m# error on strings that don't start with an appropriate prefix\u001b[0m\u001b[0;34m\u001b[0m\u001b[0;34m\u001b[0m\u001b[0;34m\u001b[0m\u001b[0m\n\u001b[0;32m-> 1459\u001b[0;31m             \u001b[0;32mif\u001b[0m \u001b[0;32mnot\u001b[0m \u001b[0moption_string\u001b[0m\u001b[0;34m[\u001b[0m\u001b[0;36m0\u001b[0m\u001b[0;34m]\u001b[0m \u001b[0;32min\u001b[0m \u001b[0mself\u001b[0m\u001b[0;34m.\u001b[0m\u001b[0mprefix_chars\u001b[0m\u001b[0;34m:\u001b[0m\u001b[0;34m\u001b[0m\u001b[0;34m\u001b[0m\u001b[0m\n\u001b[0m\u001b[1;32m   1460\u001b[0m                 args = {'option': option_string,\n\u001b[1;32m   1461\u001b[0m                         'prefix_chars': self.prefix_chars}\n",
      "\u001b[0;31mIndexError\u001b[0m: string index out of range"
     ]
    }
   ],
   "source": [
    "  # get command line options\n",
    "    options = parse_commandline()\n"
   ]
  },
  {
   "cell_type": "code",
   "execution_count": null,
   "metadata": {},
   "outputs": [],
   "source": [
    "   parser.add_argument(\"\", \"--intdb\",  dest=\"intdb\", metavar=\"<file>\",\n",
    "                    help=\"Interfaces database\")\n",
    "    parser.set_defaults(intdb=None)\n",
    "\n",
    "    parser.add_argument(\"-p\", \"--protid\",  dest=\"protein_id\",  action=\"store_true\",\n",
    "                    help=\"Ensembl protein id\")\n",
    "    parser.set_defaults(protein_id=False)\n",
    "\n",
    "\n",
    "    # get the options:\n",
    "    (options, args) = parser.parse_args()\n",
    "\n",
    "    if args.annovar in ('vcf'):\n",
    "        # check if we have an option left (to be used as input filename):\n",
    "        if args:\n",
    "            options.annovar = args.pop()\n",
    "        else:\n",
    "            print (\"Need an .vcf input file\")\n",
    "            print (\"\")\n",
    "            parser.print_help()\n",
    "            print (\"\")\n",
    "            print (\"ERROR: no input file given\")\n",
    "            exit(-1)\n",
    "\n",
    "    elif args.annovar in ('vep'):\n",
    "        # check if we have an option left (to be used as input filename):\n",
    "        if args:\n",
    "            options.annovar = args.pop()\n",
    "        else:\n",
    "            print (\"Need an input file to run VEP\")\n",
    "            print (\"\")\n",
    "            parser.print_help()\n",
    "            print (\"\")\n",
    "            print (\"ERROR: no input file given\")\n",
    "            exit(-1)\n",
    "\n",
    "    if options.intdb:\n",
    "        # check if we have an option left (to be used as input filename):\n",
    "        if args:\n",
    "            options.intdb = args.pop()\n",
    "        else:\n",
    "            print (\"Need an interfaces db input file\")\n",
    "            print (\"\")\n",
    "            parser.print_help()\n",
    "            print (\"\")\n",
    "            print (\"ERROR: no input file given\")\n",
    "            exit(-1)\n",
    "\n",
    "    # check for any leftover command line arguments:\n",
    "    if len(args):\n",
    "        warning(\"ignoring additional arguments \"+str(args))"
   ]
  }
 ],
 "metadata": {
  "kernelspec": {
   "display_name": "Python 3",
   "language": "python",
   "name": "python3"
  },
  "language_info": {
   "codemirror_mode": {
    "name": "ipython",
    "version": 3
   },
   "file_extension": ".py",
   "mimetype": "text/x-python",
   "name": "python",
   "nbconvert_exporter": "python",
   "pygments_lexer": "ipython3",
   "version": "3.6.8"
  }
 },
 "nbformat": 4,
 "nbformat_minor": 2
}
