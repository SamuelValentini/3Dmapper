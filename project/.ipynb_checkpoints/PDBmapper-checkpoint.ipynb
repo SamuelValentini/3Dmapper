{
 "cells": [
  {
   "cell_type": "code",
   "execution_count": 10,
   "metadata": {},
   "outputs": [
    {
     "name": "stdout",
     "output_type": "stream",
     "text": [
      "/home/vruizser/PhD/2018-2019/PanCancer_data/vep_output/vep_PanCan_chr_1_600001-700000\n"
     ]
    }
   ],
   "source": [
    "import pandas as pd\n",
    "\n",
    "# Put in Script \"execute_PDBmapper.py\"\n",
    "    # geneID = sys.argv[1]\n",
    "    # crossref_file = sys.argv[2]\n",
    "    # VEPs_dir = sys.argv[3]\n",
    "\n",
    "# for each of the regions ids of interest (from the interfaces DB) see where is the match in the VEP file. \n",
    "geneID = 'ENSG00000171502'\n",
    "crossref_filepath = \"/home/vruizser/PhD/2018-2019/git/PDBmapper/project/geneids_VEPfiles_crossref.txt\"\n",
    "VEPs_dir = \"/home/vruizser/PhD/2018-2019/PanCancer_data/vep_output\"\n",
    "\n",
    "def GetVariantsInfo (geneID, crossref_filepath, VEPs_dir):\n",
    "    # read the crossref file\n",
    "    crossref_df = pd.read_csv(crossref_filepath, sep = \"\\t\")\n",
    "\n",
    "    # get the vep filename associated to the gene ID\n",
    "    VEP_filename = crossref_df[crossref_df['ids'].str.contains(geneID)][\"VEPfile\"].values[0] \n",
    "\n",
    "    # extract the info for that region id from the VEP file  \n",
    "    VEP_filepath = VEPs_dir + '/' + VEP_filename\n",
    "\n",
    "    # read the selected VEP file\n",
    "    VEP_file = pd.read_csv(VEP_filepath, sep = \"\\t\", skiprows = 42)\n",
    "\n",
    "    # subset data frame regarding the selected gene id. \n",
    "    # only subset variants affecting the amino acid sequence \n",
    "    aa_variants = VEP_file[VEP_file['Gene'].str.contains(geneID) & (VEP_file['Amino_acids'] != \"-\")] "
   ]
  },
  {
   "cell_type": "code",
   "execution_count": 8,
   "metadata": {},
   "outputs": [],
   "source": [
    "class GeneToProtein:\n",
    "    \n",
    "    def __init__(self, geneID, proteinID):\n",
    "        self.gene = geneID\n",
    "        self.prot = proteinID\n",
    "    \n",
    "    def translateToProtein(self, geneID):\n",
    "        self.geneID\n",
    "        return\n",
    "    def translateToGene(self, proteinID):\n",
    "        return\n",
    "#class Biomart: \n",
    "#    def __init__(self, biomartDB)\n",
    "#        self.biomartDB\n",
    "        "
   ]
  },
  {
   "cell_type": "code",
   "execution_count": 18,
   "metadata": {},
   "outputs": [
    {
     "name": "stdout",
     "output_type": "stream",
     "text": [
      "vep_PanCan_chr_1_600001-700000\n"
     ]
    }
   ],
   "source": [
    "import pandas as pd\n",
    "\n",
    "class Variant:\n",
    "    \n",
    "    def __init__(self, geneID, crossref_filepath, VEPs_dir):\n",
    "        self.gene = geneID\n",
    "        self.cr = crossref_filepath\n",
    "        self.VEPdir = VEPs_dir\n",
    "        self.VEP_filename = None\n",
    "    \n",
    "    def retrieve(self): \n",
    "        crossref_df = pd.read_csv(self.cr, sep = \"\\t\")\n",
    "        self.VEP_filename = crossref_df[crossref_df['ids'].str.contains(self.gene)][\"VEPfile\"].values[0] \n",
    "        # extract the info for that region id from the VEP file  \n",
    "        VEP_filepath = self.VEPdir + '/' + self.VEP_filename\n",
    "        # read the selected VEP file\n",
    "        VEP_file = pd.read_csv(VEP_filepath, sep = \"\\t\", skiprows = 42)\n",
    "        # subset data frame regarding the selected gene id. \n",
    "        # only subset variants affecting the amino acid sequence \n",
    "        aa_variants = VEP_file[VEP_file['Gene'].str.contains(self.gene) & (VEP_file['Amino_acids'] != \"-\")] \n",
    "        return(aa_variants)\n",
    "        \n",
    "# Put in Script \"execute_PDBmapper.py\"\n",
    "    # geneID = sys.argv[1]\n",
    "    # crossref_file = sys.argv[2]\n",
    "    # VEPs_dir = sys.argv[3]\n",
    "\n",
    "# for each of the regions ids of interest (from the interfaces DB) see where is the match in the VEP file. \n",
    "geneID = 'ENSG00000171502'\n",
    "crossref_filepath = \"/home/vruizser/PhD/2018-2019/git/PDBmapper/project/geneids_VEPfiles_crossref.txt\"\n",
    "VEPs_dir = \"/home/vruizser/PhD/2018-2019/PanCancer_data/vep_output\"\n",
    "\n",
    "# execute class code\n",
    "var = Variant(geneID, crossref_filepath, VEPs_dir)\n",
    "var.retrieve()\n",
    "print(var.VEP_filename)"
   ]
  },
  {
   "cell_type": "code",
   "execution_count": null,
   "metadata": {},
   "outputs": [],
   "source": [
    "import VEPparser as vp\n",
    "import sys\n",
    "import os\n",
    "import gzip\n",
    "import re\n",
    "import pandas as pd\n",
    "\n",
    "\n",
    "def VEPparser( VEPfile, vepfile, geneID):\n",
    "    # create empty list to store \n",
    "    matches = []\n",
    "    for line in VEPfile:\n",
    "        df = re.findall(r''+geneID, line)\n",
    "        if df: \n",
    "            matches.append(line.split(\"\\t\"))\n",
    "    df = pd.DataFrame(matches)\n",
    "    \n",
    "    df_vep = pd.read_csv(vepfile, nrows = 0, skiprows = 42, sep = \"\\t\")\n",
    "    index = df_vep.columns.get_loc(\"Amino_acids\")\n",
    "    print(df[index]) \n",
    "\n",
    "vepfile = open(path+fileID, \"r\")\n",
    "VEPparser(vepfile,path+fileID, geneID)"
   ]
  },
  {
   "cell_type": "code",
   "execution_count": null,
   "metadata": {},
   "outputs": [],
   "source": [
    "# translate gene ID to protein ID"
   ]
  },
  {
   "cell_type": "code",
   "execution_count": null,
   "metadata": {},
   "outputs": [],
   "source": [
    "# Search the protein/gene iD from the interfaces DB in the \n",
    "# ENSP00000380491\n",
    "geneid = \"ENSG00000198125\""
   ]
  }
 ],
 "metadata": {
  "kernelspec": {
   "display_name": "Python 3",
   "language": "python",
   "name": "python3"
  },
  "language_info": {
   "codemirror_mode": {
    "name": "ipython",
    "version": 3
   },
   "file_extension": ".py",
   "mimetype": "text/x-python",
   "name": "python",
   "nbconvert_exporter": "python",
   "pygments_lexer": "ipython3",
   "version": "3.6.8"
  }
 },
 "nbformat": 4,
 "nbformat_minor": 2
}
