{
 "cells": [
  {
   "cell_type": "code",
   "execution_count": 1,
   "metadata": {},
   "outputs": [],
   "source": [
    "import mapping_tools as mt\n",
    "import numpy as np\n",
    "import sys\n",
    "import os\n",
    "import gzip\n",
    "import re\n",
    "import pandas as pd\n",
    "from timeit import default_timer as timer\n",
    "from VEPcrossref import VEPfileCrossrefGenerator as cr"
   ]
  },
  {
   "cell_type": "code",
   "execution_count": null,
   "metadata": {},
   "outputs": [],
   "source": [
    "# INTERFACES PART"
   ]
  },
  {
   "cell_type": "code",
   "execution_count": 2,
   "metadata": {},
   "outputs": [],
   "source": [
    "# Extract the info corresponding to the prot ID (Interface parse)\n",
    "\n",
    "#sys.argv[1]\n",
    "#sys.argv[2]\n",
    "\n",
    "protID = 'ENSP00000482258'\n",
    "int_db_file = '/home/vruizser/PhD/2018-2019/Immunity_interfaces_analysis/raw_data/interfaces_mapped_to_v94.csv'\n",
    "\n",
    "  \n",
    "interfacesDB = open(int_db_file, \"r\")\n",
    "cols = interfacesDB.readline().strip().split(\" \")\n",
    "#prot_interface = mt.ProtIntDB_parser(interfacesDB, protID)\n",
    "prot_interface = mt.parser(interfacesDB,  protID, cols, \" \" )"
   ]
  },
  {
   "cell_type": "code",
   "execution_count": 3,
   "metadata": {},
   "outputs": [
    {
     "name": "stderr",
     "output_type": "stream",
     "text": [
      "/usr/local/lib/python3.6/dist-packages/pandas/core/indexing.py:635: SettingWithCopyWarning: \n",
      "A value is trying to be set on a copy of a slice from a DataFrame.\n",
      "Try using .loc[row_indexer,col_indexer] = value instead\n",
      "\n",
      "See the caveats in the documentation: http://pandas.pydata.org/pandas-docs/stable/indexing.html#indexing-view-versus-copy\n",
      "  self.obj[item_labels[indexer[info_axis]]] = value\n",
      "/home/vruizser/PhD/2018-2019/git/PDBmapper/project/mapping_tools.py:16: FutureWarning: '.reindex_axis' is deprecated and will be removed in a future version. Use '.reindex' instead.\n",
      "  a = df.T.reindex_axis(columns).values\n"
     ]
    }
   ],
   "source": [
    "subset_prot_interface = prot_interface[['pdb.id',\n",
    "                      'ensembl.prot.id',\n",
    "                      'temp.chain',\n",
    "                      'int.chain',\n",
    "                      'interaction',\n",
    "                      'resid_sseq',\n",
    "                      'mapped.real.pos',\n",
    "                      'pdb.pos' ]]\n",
    "\n",
    "# put it into right format\n",
    "subset_prot_interface.columns = subset_prot_interface.columns.str.replace(\"\\\\.\", \"_\")\n",
    "\n",
    "for col in (\"resid_sseq\", \"mapped_real_pos\", \"pdb_pos\"):\n",
    "    subset_prot_interface.loc[ : , col] = subset_prot_interface[col].str.replace(\"-\", ',')\n",
    "    subset_prot_interface.loc[ : , col] = subset_prot_interface[col].str.split(',')\n",
    "\n",
    "subset_prot_interface = mt.explode(subset_prot_interface, [\"resid_sseq\", \"mapped_real_pos\", \"pdb_pos\"])\n",
    "\n",
    "subset_prot_interface.rename(columns={'mapped_real_pos':'Protein_position'}, inplace=True)\n",
    "\n",
    "subset_prot_interface['region_id'] = subset_prot_interface['pdb_id'] + '_' + subset_prot_interface['ensembl_prot_id'] + '_' + subset_prot_interface['temp_chain'] + '_' + subset_prot_interface['int_chain'] + '_' + subset_prot_interface['interaction']"
   ]
  },
  {
   "cell_type": "code",
   "execution_count": null,
   "metadata": {},
   "outputs": [],
   "source": [
    "####################### VARIANTS PART #####################################################"
   ]
  },
  {
   "cell_type": "code",
   "execution_count": 32,
   "metadata": {},
   "outputs": [],
   "source": [
    "# Translate protID to gene ID\n",
    "#subset_prot_interface"
   ]
  },
  {
   "cell_type": "code",
   "execution_count": 4,
   "metadata": {},
   "outputs": [],
   "source": [
    "biomartdb = open(\"/home/vruizser/PhD/2018-2019/git/PDBmapper/project/gene_transcript_protein_ens_ids.txt\", \"r\")\n",
    "ensemblIDs = mt.ensemblID_translator(biomartdb, protID)"
   ]
  },
  {
   "cell_type": "code",
   "execution_count": 5,
   "metadata": {},
   "outputs": [],
   "source": [
    "# get the corresponding VEP file\n",
    "crossref_file = open(\"/home/vruizser/PhD/2018-2019/git/PDBmapper/project/geneids_VEPfiles_crossref.txt\", \"r\")\n",
    "VEP_filename = mt.VEP_getter(crossref_file, ensemblIDs[\"geneID\"])"
   ]
  },
  {
   "cell_type": "code",
   "execution_count": 6,
   "metadata": {},
   "outputs": [],
   "source": [
    "VEP_dir= \"/home/vruizser/PhD/2018-2019/PanCancer_data/vep_output/\"\n",
    "VEPfile = open(VEP_dir + VEP_filename, \"r\")\n",
    "geneID = ensemblIDs['geneID']\n",
    "cols = pd.read_csv(VEPfile, nrows = 0, skiprows = 42, sep = \"\\t\").columns\n",
    "VEP = mt.parser(VEPfile,  geneID, cols, \"\\t\" )"
   ]
  },
  {
   "cell_type": "code",
   "execution_count": 9,
   "metadata": {},
   "outputs": [],
   "source": [
    "setID = MapVariantToPDB( VEP, subset_prot_interface, 'region_id')"
   ]
  },
  {
   "cell_type": "code",
   "execution_count": 9,
   "metadata": {},
   "outputs": [],
   "source": []
  },
  {
   "cell_type": "code",
   "execution_count": 72,
   "metadata": {},
   "outputs": [],
   "source": [
    "# define main function to execute the previous defined functions together\n",
    "def main():\n",
    "\n",
    " \n",
    "\n",
    "    \n",
    "    \n",
    "    return\n",
    "\n",
    "\n",
    "##########################\n",
    "# execute main function  #\n",
    "##########################\n",
    "if __name__ == '__main__':\n",
    "    main()"
   ]
  }
 ],
 "metadata": {
  "kernelspec": {
   "display_name": "Python 3",
   "language": "python",
   "name": "python3"
  },
  "language_info": {
   "codemirror_mode": {
    "name": "ipython",
    "version": 3
   },
   "file_extension": ".py",
   "mimetype": "text/x-python",
   "name": "python",
   "nbconvert_exporter": "python",
   "pygments_lexer": "ipython3",
   "version": "3.6.8"
  }
 },
 "nbformat": 4,
 "nbformat_minor": 2
}
