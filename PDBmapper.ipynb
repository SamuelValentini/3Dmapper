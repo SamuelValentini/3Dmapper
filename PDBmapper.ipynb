{
 "cells": [
  {
   "cell_type": "code",
   "execution_count": null,
   "metadata": {},
   "outputs": [],
   "source": [
    "import pandas as pd\n",
    "\n",
    "# for each of the regions ids of interest (from the interfaces DB) see where is the match in the VEP file. \n",
    "geneID = 'ENSG00000129255'\n",
    "indexFile = \"/home/vruizser/PhD/2018-2019/git/PDBmapper/holi.csv\"\n",
    "\n",
    "df = pd.read_csv(indexFile, sep = \"\\t\")\n",
    "df\n",
    "df1 = df[df['ids'].str.contains(geneID)] \n",
    "fileID = df1[\"VEPfile\"].values[0]\n",
    "\n"
   ]
  },
  {
   "cell_type": "code",
   "execution_count": null,
   "metadata": {},
   "outputs": [],
   "source": [
    "# extract the info for that region id from the VEP file  \n",
    "print(path+fileID)\n",
    "selected_VEP_file = pd.read_csv(path+fileID, sep = \"\\t\", skiprows = 42)\n",
    "df1 = selected_VEP_file[selected_VEP_file['Gene'].str.contains(geneID) & (selected_VEP_file['Amino_acids'] != \"-\") ] \n",
    "df1\n"
   ]
  },
  {
   "cell_type": "code",
   "execution_count": null,
   "metadata": {},
   "outputs": [],
   "source": [
    "import VEPparser as vp\n",
    "import sys\n",
    "import os\n",
    "import gzip\n",
    "import re\n",
    "import pandas as pd\n",
    "\n",
    "\n",
    "def VEPparser( VEPfile, vepfile, geneID):\n",
    "    # create empty list to store \n",
    "    matches = []\n",
    "    for line in VEPfile:\n",
    "        df = re.findall(r''+geneID, line)\n",
    "        if df: \n",
    "            matches.append(line.split(\"\\t\"))\n",
    "    df = pd.DataFrame(matches)\n",
    "    \n",
    "    df_vep = pd.read_csv(vepfile, nrows = 0, skiprows = 42, sep = \"\\t\")\n",
    "    index = df_vep.columns.get_loc(\"Amino_acids\")\n",
    "    print(df[index]) \n",
    "\n",
    "vepfile = open(path+fileID, \"r\")\n",
    "VEPparser(vepfile,path+fileID, geneID)"
   ]
  },
  {
   "cell_type": "code",
   "execution_count": null,
   "metadata": {},
   "outputs": [],
   "source": [
    "# translate gene ID to protein ID"
   ]
  },
  {
   "cell_type": "code",
   "execution_count": null,
   "metadata": {},
   "outputs": [],
   "source": []
  }
 ],
 "metadata": {
  "kernelspec": {
   "display_name": "Python 3",
   "language": "python",
   "name": "python3"
  },
  "language_info": {
   "codemirror_mode": {
    "name": "ipython",
    "version": 3
   },
   "file_extension": ".py",
   "mimetype": "text/x-python",
   "name": "python",
   "nbconvert_exporter": "python",
   "pygments_lexer": "ipython3",
   "version": "3.6.8"
  }
 },
 "nbformat": 4,
 "nbformat_minor": 2
}
