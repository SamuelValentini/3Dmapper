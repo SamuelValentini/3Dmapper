{
 "cells": [
  {
   "cell_type": "code",
   "execution_count": 4,
   "metadata": {},
   "outputs": [],
   "source": [
    "import pandas \n",
    "import os\n",
    "import location_vep\n",
    "\n",
    "path = '/home/vruizser/PhD/2018-2019/PanCancer_data/vep_output/'\n",
    "\n",
    "VEPfiles = []\n",
    "# r=root, d=directories, f = files\n",
    "for r, d, f in os.walk(path):\n",
    "    for file in f:\n",
    "        if 'html' in file:\n",
    "            next\n",
    "        else:\n",
    "            VEPfiles.append(os.path.join(r, file))\n",
    "\n",
    "# for loop and iterate over all the vep file and extract the location of each of the regions ids. \n",
    "for f in VEPfiles:\n",
    "    locationvep.FileGenerator(f)\n",
    "    \n"
   ]
  },
  {
   "cell_type": "code",
   "execution_count": 41,
   "metadata": {},
   "outputs": [],
   "source": [
    "import pandas as pd\n",
    "\n",
    "# for each of the regions ids of interest (from the interfaces DB) see where is the match in the VEP file. \n",
    "geneID = 'ENSG00000129255'\n",
    "indexFile = \"/home/vruizser/PhD/2018-2019/git/PDBmapper/holi.csv\"\n",
    "\n",
    "df = pd.read_csv(indexFile, sep = \"\\t\")\n",
    "df\n",
    "df1 = df[df['ids'].str.contains(geneID)] \n",
    "fileID = df1[\"VEPfile\"].values[0]\n"
   ]
  },
  {
   "cell_type": "code",
   "execution_count": 52,
   "metadata": {
    "scrolled": true
   },
   "outputs": [
    {
     "name": "stdout",
     "output_type": "stream",
     "text": [
      "/home/vruizser/PhD/2018-2019/PanCancer_data/vep_output/vep_PanCan_chr_17_1-100000\n"
     ]
    },
    {
     "data": {
      "text/html": [
       "<div>\n",
       "<style scoped>\n",
       "    .dataframe tbody tr th:only-of-type {\n",
       "        vertical-align: middle;\n",
       "    }\n",
       "\n",
       "    .dataframe tbody tr th {\n",
       "        vertical-align: top;\n",
       "    }\n",
       "\n",
       "    .dataframe thead th {\n",
       "        text-align: right;\n",
       "    }\n",
       "</style>\n",
       "<table border=\"1\" class=\"dataframe\">\n",
       "  <thead>\n",
       "    <tr style=\"text-align: right;\">\n",
       "      <th></th>\n",
       "      <th>#Uploaded_variation</th>\n",
       "      <th>Location</th>\n",
       "      <th>Allele</th>\n",
       "      <th>Gene</th>\n",
       "      <th>Feature</th>\n",
       "      <th>Feature_type</th>\n",
       "      <th>Consequence</th>\n",
       "      <th>cDNA_position</th>\n",
       "      <th>CDS_position</th>\n",
       "      <th>Protein_position</th>\n",
       "      <th>Amino_acids</th>\n",
       "      <th>Codons</th>\n",
       "      <th>Existing_variation</th>\n",
       "      <th>Extra</th>\n",
       "    </tr>\n",
       "  </thead>\n",
       "  <tbody>\n",
       "  </tbody>\n",
       "</table>\n",
       "</div>"
      ],
      "text/plain": [
       "Empty DataFrame\n",
       "Columns: [#Uploaded_variation, Location, Allele, Gene, Feature, Feature_type, Consequence, cDNA_position, CDS_position, Protein_position, Amino_acids, Codons, Existing_variation, Extra]\n",
       "Index: []"
      ]
     },
     "execution_count": 52,
     "metadata": {},
     "output_type": "execute_result"
    }
   ],
   "source": [
    "# extract the info for that region id from the VEP file  \n",
    "print(path+fileID)\n",
    "selected_VEP_file = pd.read_csv(path+fileID, sep = \"\\t\", skiprows = 42)\n",
    "df1 = selected_VEP_file[selected_VEP_file['Gene'].str.contains(geneID) & (selected_VEP_file['Amino_acids'] != \"-\") ] \n",
    "df1\n",
    "\n",
    "\n"
   ]
  },
  {
   "cell_type": "code",
   "execution_count": 36,
   "metadata": {},
   "outputs": [
    {
     "name": "stdout",
     "output_type": "stream",
     "text": [
      "0       -\n",
      "1       -\n",
      "2       -\n",
      "3       -\n",
      "4       -\n",
      "5       -\n",
      "6       -\n",
      "7       -\n",
      "8       -\n",
      "9       -\n",
      "10      -\n",
      "11      -\n",
      "12      -\n",
      "13      -\n",
      "14      -\n",
      "15      -\n",
      "16      -\n",
      "17      -\n",
      "18      -\n",
      "19      -\n",
      "20      -\n",
      "21      -\n",
      "22      -\n",
      "23      -\n",
      "24      -\n",
      "25      -\n",
      "26      -\n",
      "27      -\n",
      "28      -\n",
      "29      -\n",
      "       ..\n",
      "2780    -\n",
      "2781    -\n",
      "2782    -\n",
      "2783    -\n",
      "2784    -\n",
      "2785    -\n",
      "2786    -\n",
      "2787    -\n",
      "2788    -\n",
      "2789    -\n",
      "2790    -\n",
      "2791    -\n",
      "2792    -\n",
      "2793    -\n",
      "2794    -\n",
      "2795    -\n",
      "2796    -\n",
      "2797    -\n",
      "2798    -\n",
      "2799    -\n",
      "2800    -\n",
      "2801    -\n",
      "2802    -\n",
      "2803    -\n",
      "2804    -\n",
      "2805    -\n",
      "2806    -\n",
      "2807    -\n",
      "2808    -\n",
      "2809    -\n",
      "Name: 10, Length: 2810, dtype: object\n"
     ]
    }
   ],
   "source": [
    "import VEPparser as vp\n",
    "import sys\n",
    "import os\n",
    "import gzip\n",
    "import re\n",
    "import pandas as pd\n",
    "\n",
    "\n",
    "def VEPparser( VEPfile, vepfile, geneID):\n",
    "    # create empty list to store \n",
    "    matches = []\n",
    "    for line in VEPfile:\n",
    "        df = re.findall(r''+geneID, line)\n",
    "        if df: \n",
    "            matches.append(line.split(\"\\t\"))\n",
    "    df = pd.DataFrame(matches)\n",
    "    \n",
    "    df_vep = pd.read_csv(vepfile, nrows = 0, skiprows = 42, sep = \"\\t\")\n",
    "    index = df_vep.columns.get_loc(\"Amino_acids\")\n",
    "    print(df[index]) \n",
    "\n",
    "vepfile = open(path+fileID, \"r\")\n",
    "VEPparser(vepfile,path+fileID, geneID)\n",
    "\n",
    "\n"
   ]
  },
  {
   "cell_type": "code",
   "execution_count": null,
   "metadata": {},
   "outputs": [],
   "source": [
    "# translate gene ID to protein ID\n"
   ]
  },
  {
   "cell_type": "code",
   "execution_count": null,
   "metadata": {},
   "outputs": [],
   "source": [
    "# Search the protein/gene iD from the interfaces DB in the \n",
    "# ENSP00000380491\n",
    "geneid = \"ENSG00000198125\"\n",
    "    "
   ]
  }
 ],
 "metadata": {
  "kernelspec": {
   "display_name": "Python 3",
   "language": "python",
   "name": "python3"
  },
  "language_info": {
   "codemirror_mode": {
    "name": "ipython",
    "version": 3
   },
   "file_extension": ".py",
   "mimetype": "text/x-python",
   "name": "python",
   "nbconvert_exporter": "python",
   "pygments_lexer": "ipython3",
   "version": "3.6.8"
  }
 },
 "nbformat": 4,
 "nbformat_minor": 2
}
