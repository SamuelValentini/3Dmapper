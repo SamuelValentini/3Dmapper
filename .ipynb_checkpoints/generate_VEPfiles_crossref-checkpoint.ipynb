{
 "cells": [
  {
   "cell_type": "code",
   "execution_count": 2,
   "metadata": {},
   "outputs": [],
   "source": [
    "import VEPcrossref as cr\n",
    "\n",
    "# path to all VEP files\n",
    "path = '/home/vruizser/PhD/2018-2019/PanCancer_data/vep_output/'\n",
    "\n",
    "# empty list to store all the paths to each of the files\n",
    "VEPfiles = []\n",
    "for r, d, f in os.walk(path): # r=root, d=directories, f = files\n",
    "    for file in f:\n",
    "        if 'html' in file:\n",
    "            next\n",
    "        else:\n",
    "            VEPfiles.append(os.path.join(r, file))\n",
    "\n",
    "# foer each VEP file, get the crossreference of each gene id.\n",
    "for file_path in VEPfiles:\n",
    "    cr.VEPfileCrossrefGenerator(file_path, \"geneids_VEPfiles_crossref.txt\")"
   ]
  },
  {
   "cell_type": "code",
   "execution_count": 3,
   "metadata": {},
   "outputs": [
    {
     "name": "stdout",
     "output_type": "stream",
     "text": [
      "Help on function VEPfileCrossrefGenerator in module VEPcrossref:\n",
      "\n",
      "VEPfileCrossrefGenerator(VEP_file_path, crossref_filename)\n",
      "    Generate file of genes IDs and the corresponding VEP file where you can find them.\n",
      "    \n",
      "    Parameters\n",
      "    ----------\n",
      "    VEP_file_path : str\n",
      "        input path of the VEP file\n",
      "    crossref_filename : str\n",
      "        chosen name of the output file\n",
      "    \n",
      "    Returns\n",
      "    -------\n",
      "    data frame\n",
      "        write data frame to a txt file with two columns: one is the gene ids and the other one the VEP file\n",
      "\n"
     ]
    }
   ],
   "source": [
    "help(cr.VEPfileCrossrefGenerator)"
   ]
  }
 ],
 "metadata": {
  "kernelspec": {
   "display_name": "Python 3",
   "language": "python",
   "name": "python3"
  },
  "language_info": {
   "codemirror_mode": {
    "name": "ipython",
    "version": 3
   },
   "file_extension": ".py",
   "mimetype": "text/x-python",
   "name": "python",
   "nbconvert_exporter": "python",
   "pygments_lexer": "ipython3",
   "version": "3.6.8"
  }
 },
 "nbformat": 4,
 "nbformat_minor": 2
}
