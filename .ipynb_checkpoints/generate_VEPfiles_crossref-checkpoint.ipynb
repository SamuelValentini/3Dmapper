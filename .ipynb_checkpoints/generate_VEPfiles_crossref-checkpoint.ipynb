{
 "cells": [
  {
   "cell_type": "code",
   "execution_count": 2,
   "metadata": {},
   "outputs": [],
   "source": [
    "import VEPcrossref as cr\n",
    "\n",
    "# path to all VEP files\n",
    "path = '/home/vruizser/PhD/2018-2019/PanCancer_data/vep_output/'\n",
    "\n",
    "# empty list to store all the paths to each of the files\n",
    "VEPfiles = []\n",
    "for r, d, f in os.walk(path): # r=root, d=directories, f = files\n",
    "    for file in f:\n",
    "        if 'html' in file:\n",
    "            next\n",
    "        else:\n",
    "            VEPfiles.append(os.path.join(r, file))\n",
    "\n",
    "# foer each VEP file, get the crossreference of each gene id.\n",
    "for file_path in VEPfiles:\n",
    "    cr.VEPfileCrossrefGenerator(file_path, \"geneids_VEPfiles_crossref.txt\")"
   ]
  }
 ],
 "metadata": {
  "kernelspec": {
   "display_name": "Python 3",
   "language": "python",
   "name": "python3"
  },
  "language_info": {
   "codemirror_mode": {
    "name": "ipython",
    "version": 3
   },
   "file_extension": ".py",
   "mimetype": "text/x-python",
   "name": "python",
   "nbconvert_exporter": "python",
   "pygments_lexer": "ipython3",
   "version": "3.6.8"
  }
 },
 "nbformat": 4,
 "nbformat_minor": 2
}
